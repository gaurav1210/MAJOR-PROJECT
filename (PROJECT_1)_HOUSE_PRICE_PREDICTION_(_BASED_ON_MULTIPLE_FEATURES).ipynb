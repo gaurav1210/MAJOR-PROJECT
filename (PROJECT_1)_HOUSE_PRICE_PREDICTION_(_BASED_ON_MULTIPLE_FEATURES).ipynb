{
  "nbformat": 4,
  "nbformat_minor": 0,
  "metadata": {
    "colab": {
      "name": "(PROJECT-1) HOUSE PRICE PREDICTION ( BASED ON MULTIPLE FEATURES).ipynb",
      "provenance": [],
      "private_outputs": true,
      "include_colab_link": true
    },
    "kernelspec": {
      "name": "python3",
      "display_name": "Python 3"
    }
  },
  "cells": [
    {
      "cell_type": "markdown",
      "metadata": {
        "id": "view-in-github",
        "colab_type": "text"
      },
      "source": [
        "<a href=\"https://colab.research.google.com/github/gaurav1210/MAJOR-PROJECT/blob/master/(PROJECT_1)_HOUSE_PRICE_PREDICTION_(_BASED_ON_MULTIPLE_FEATURES).ipynb\" target=\"_parent\"><img src=\"https://colab.research.google.com/assets/colab-badge.svg\" alt=\"Open In Colab\"/></a>"
      ]
    },
    {
      "cell_type": "markdown",
      "metadata": {
        "id": "KDMvOiSeqel1",
        "colab_type": "text"
      },
      "source": [
        " ## Step 1. Import all necessary **Libraries**"
      ]
    },
    {
      "cell_type": "code",
      "metadata": {
        "id": "WE62iOFaPfc0",
        "colab_type": "code",
        "colab": {}
      },
      "source": [
        "import pandas as pd                                   # Library for dataframe and manipulation\n",
        "import numpy as np                                    # Library for array manipulation\n",
        "import matplotlib.pyplot as plt                       # Library for data visualizations\n",
        "from sklearn.linear_model import LinearRegression     # Library for machine learning model and scientific calculations\n",
        "from sklearn.preprocessing import PolynomialFeatures  # Library for polynomial selection\n",
        "from sklearn.model_selection import train_test_split  # class for dividing the dataset into train and test\n",
        "from sklearn import metrics                           # importing matrix library from scikit learn package\n",
        "from sklearn.metrics import r2_score\n",
        "import math"
      ],
      "execution_count": 0,
      "outputs": []
    },
    {
      "cell_type": "code",
      "metadata": {
        "id": "6wl5JELKr6ej",
        "colab_type": "code",
        "colab": {}
      },
      "source": [
        "from google.colab import drive\n",
        "drive.mount('/content/drive')"
      ],
      "execution_count": 0,
      "outputs": []
    },
    {
      "cell_type": "markdown",
      "metadata": {
        "id": "5PJL5Hwbra5a",
        "colab_type": "text"
      },
      "source": [
        "## Step 2. **Reading or importing** the datasets into the working **Environment**"
      ]
    },
    {
      "cell_type": "code",
      "metadata": {
        "id": "wOsAPID_f7MV",
        "colab_type": "code",
        "colab": {}
      },
      "source": [
        "data = pd.read_csv('/content/drive/My Drive/YOUTUBE CONTENT/DATASET/hp_data.csv')   # provide the full datasets path \n",
        "data.head()                                                                       # Method used for showing the dataset record by default 5 records "
      ],
      "execution_count": 0,
      "outputs": []
    },
    {
      "cell_type": "markdown",
      "metadata": {
        "id": "uWnuYlORsPzE",
        "colab_type": "text"
      },
      "source": [
        "## Step 3. Divide the datasets into the **x** and **y**( independent and dependent) variable"
      ]
    },
    {
      "cell_type": "code",
      "metadata": {
        "id": "q8OKjEdUgRfV",
        "colab_type": "code",
        "colab": {}
      },
      "source": [
        "x = data.loc[:,['sqft','yearsOld','floor','totalFloor','bhk']]       # loc used for sepearte the required column from the datasets\n",
        "y = data.iloc[:,8:]                                                 # iloc is used for seperate the required column from the datasets :"
      ],
      "execution_count": 0,
      "outputs": []
    },
    {
      "cell_type": "code",
      "metadata": {
        "id": "mm_Y8GO5hFTM",
        "colab_type": "code",
        "colab": {}
      },
      "source": [
        "x                                                                # Print the value of x ."
      ],
      "execution_count": 0,
      "outputs": []
    },
    {
      "cell_type": "code",
      "metadata": {
        "id": "Agmn33MahItg",
        "colab_type": "code",
        "colab": {}
      },
      "source": [
        "y                                           # Print the value of y "
      ],
      "execution_count": 0,
      "outputs": []
    },
    {
      "cell_type": "markdown",
      "metadata": {
        "id": "We7D0c-qx1z_",
        "colab_type": "text"
      },
      "source": [
        "## Step 4. Spliting the datasets into **training and testing** part"
      ]
    },
    {
      "cell_type": "code",
      "metadata": {
        "id": "IWqXQET7hcyr",
        "colab_type": "code",
        "colab": {}
      },
      "source": [
        "x_train,x_test,y_train,y_test = train_test_split(x,y, test_size =0.2, random_state=0)       # inbuilt method for split datasets into training and testing.\n",
        "x_train                                                                                # Printing the independent training datasets value ."
      ],
      "execution_count": 0,
      "outputs": []
    },
    {
      "cell_type": "code",
      "metadata": {
        "id": "1VXgllilh8vO",
        "colab_type": "code",
        "colab": {}
      },
      "source": [
        "x_test                                    # Printing the independent testing datasets value ."
      ],
      "execution_count": 0,
      "outputs": []
    },
    {
      "cell_type": "code",
      "metadata": {
        "id": "Pwj2DOQ5iAha",
        "colab_type": "code",
        "colab": {}
      },
      "source": [
        "y_train                                      # printing the dependent y training datasets values"
      ],
      "execution_count": 0,
      "outputs": []
    },
    {
      "cell_type": "code",
      "metadata": {
        "id": "1OzTqCFOiHOD",
        "colab_type": "code",
        "colab": {}
      },
      "source": [
        "y_test                                        # printing the dependent y testing datasets record."
      ],
      "execution_count": 0,
      "outputs": []
    },
    {
      "cell_type": "markdown",
      "metadata": {
        "id": "GG9NS18P01I8",
        "colab_type": "text"
      },
      "source": [
        "## Step 5. Feeding training datasets for **Training the algorthm**."
      ]
    },
    {
      "cell_type": "code",
      "metadata": {
        "id": "iOBhLcW2iMSH",
        "colab_type": "code",
        "colab": {}
      },
      "source": [
        "model = LinearRegression()   # This method is inbuilt into the linear model class in scikit learn.\n",
        "model.fit(x_train,y_train)    # Method for training the datasets."
      ],
      "execution_count": 0,
      "outputs": []
    },
    {
      "cell_type": "markdown",
      "metadata": {
        "id": "jL_AAtth1IRG",
        "colab_type": "text"
      },
      "source": [
        "## Step 6 & 7. Retrieving the **intercept and coeffcient or slope**"
      ]
    },
    {
      "cell_type": "code",
      "metadata": {
        "id": "MEV6cpujl-9b",
        "colab_type": "code",
        "colab": {}
      },
      "source": [
        "print(model.intercept_)    # finding the value of intercept.\n",
        "print(model.coef_)         # fonding the value of coeficient."
      ],
      "execution_count": 0,
      "outputs": []
    },
    {
      "cell_type": "markdown",
      "metadata": {
        "id": "7iBHYDZ1-0tE",
        "colab_type": "text"
      },
      "source": [
        "## Step 8. Predicting the value of **algorithm**."
      ]
    },
    {
      "cell_type": "code",
      "metadata": {
        "id": "i5SUiGd2mUPu",
        "colab_type": "code",
        "colab": {}
      },
      "source": [
        "y_pred=model.predict(x_test)      # methiod for predicting the values of testing datasets.\n",
        "y_pred"
      ],
      "execution_count": 0,
      "outputs": []
    },
    {
      "cell_type": "markdown",
      "metadata": {
        "id": "EnxkFLsW_Vw1",
        "colab_type": "text"
      },
      "source": [
        "## Step 9. Comparing the **actual and predicted value** With **Graph Visuallization**"
      ]
    },
    {
      "cell_type": "code",
      "metadata": {
        "id": "-zwlcNCMnAUi",
        "colab_type": "code",
        "colab": {}
      },
      "source": [
        "pf = pd.DataFrame({'Actual': np.array(y_test).flatten(), 'Predicted': y_pred.flatten()})\n",
        "pf"
      ],
      "execution_count": 0,
      "outputs": []
    },
    {
      "cell_type": "code",
      "metadata": {
        "id": "Y87GneofnJqS",
        "colab_type": "code",
        "colab": {}
      },
      "source": [
        "df1 = pf.head(30)\n",
        "df1.plot(kind='bar',figsize=(15,20))\n",
        "plt.grid(which='major', linestyle='-', linewidth='.5', color='green')\n",
        "plt.grid(which='minor', linestyle=':', linewidth='.5', color='black')\n",
        "plt.show()"
      ],
      "execution_count": 0,
      "outputs": []
    },
    {
      "cell_type": "markdown",
      "metadata": {
        "id": "DtomFBjO_rN2",
        "colab_type": "text"
      },
      "source": [
        "## Step : 10 **Evalute** the algorithm or finding the error of the **model**"
      ]
    },
    {
      "cell_type": "code",
      "metadata": {
        "id": "a5GqqrHjoVM7",
        "colab_type": "code",
        "colab": {}
      },
      "source": [
        "print('Mean Absolute Error:', metrics.mean_absolute_error(y_test, y_pred))  \n",
        "print('Mean Squared Error:', metrics.mean_squared_error(y_test, y_pred))  \n",
        "print('Root Mean Squared Error:', np.sqrt(metrics.mean_squared_error(y_test, y_pred)))"
      ],
      "execution_count": 0,
      "outputs": []
    },
    {
      "cell_type": "markdown",
      "metadata": {
        "id": "Ta-XhI1nAGY4",
        "colab_type": "text"
      },
      "source": [
        "## Step 11. **Testing** The algorithm or **model**"
      ]
    },
    {
      "cell_type": "code",
      "metadata": {
        "id": "m7ItN5JmpcNX",
        "colab_type": "code",
        "colab": {}
      },
      "source": [
        "test=model.predict([[1019,1,2,5,2]])          # predicting the value using trained model.\n",
        "test"
      ],
      "execution_count": 0,
      "outputs": []
    }
  ]
}